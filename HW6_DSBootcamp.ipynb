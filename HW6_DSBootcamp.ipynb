{
  "nbformat": 4,
  "nbformat_minor": 0,
  "metadata": {
    "colab": {
      "provenance": []
    },
    "kernelspec": {
      "name": "python3",
      "display_name": "Python 3"
    },
    "language_info": {
      "name": "python"
    }
  },
  "cells": [
    {
      "cell_type": "markdown",
      "source": [
        "Dataset : Employee data used in lecture linked here. 1.Preprocess Test data and get predictions 2.Compute Mean Absolute Error, Mean Square error for test data. 3.Optional : Read about Ridge and Lasso Regression, implement them and compute evaluation metrics. Do they perform better than Linear Regression?"
      ],
      "metadata": {
        "id": "WgWcIoOk1YhB"
      }
    },
    {
      "cell_type": "code",
      "execution_count": 2,
      "metadata": {
        "colab": {
          "base_uri": "https://localhost:8080/"
        },
        "id": "WtI0aB391VFD",
        "outputId": "2347f328-b6c4-4943-a6c0-d499e7675267"
      },
      "outputs": [
        {
          "output_type": "stream",
          "name": "stdout",
          "text": [
            "   id            timestamp        country employment_status  job_title  \\\n",
            "0   1  12/11/2018 10:52:26       Slovenia         Full time  Developer   \n",
            "1   2    1/5/2017 16:57:50  United States         Full time        DBA   \n",
            "2   3   12/18/2017 8:13:15         Sweden         Full time        DBA   \n",
            "3   4   12/27/2018 4:56:52  United States         Full time        DBA   \n",
            "4   5  12/11/2018 14:07:58  United States         Full time  Developer   \n",
            "\n",
            "   job_years is_manager  hours_per_week  telecommute_days_per_week  \\\n",
            "0    4.78393        Yes            40.0                        0.0   \n",
            "1    5.00000         No            40.0                        5.0   \n",
            "2    1.00000         No            40.0                        0.0   \n",
            "3    1.00000         No            40.0                        2.0   \n",
            "4    3.00000         No            40.0                        2.0   \n",
            "\n",
            "             education is_education_computer_related certifications  \\\n",
            "0  Bachelors (4 years)                           Yes             No   \n",
            "1  Bachelors (4 years)                           Yes             No   \n",
            "2              Masters                           Yes            Yes   \n",
            "3  Bachelors (4 years)                            No             No   \n",
            "4              Masters                           Yes            Yes   \n",
            "\n",
            "         salary  \n",
            "0   7187.743094  \n",
            "1  10000.000000  \n",
            "2   7000.000000  \n",
            "3   8333.000000  \n",
            "4   7137.000000  \n",
            "<class 'pandas.core.frame.DataFrame'>\n",
            "RangeIndex: 4277 entries, 0 to 4276\n",
            "Data columns (total 13 columns):\n",
            " #   Column                         Non-Null Count  Dtype  \n",
            "---  ------                         --------------  -----  \n",
            " 0   id                             4277 non-null   int64  \n",
            " 1   timestamp                      4277 non-null   object \n",
            " 2   country                        4277 non-null   object \n",
            " 3   employment_status              4277 non-null   object \n",
            " 4   job_title                      4277 non-null   object \n",
            " 5   job_years                      4277 non-null   float64\n",
            " 6   is_manager                     4277 non-null   object \n",
            " 7   hours_per_week                 4260 non-null   float64\n",
            " 8   telecommute_days_per_week      4266 non-null   float64\n",
            " 9   education                      4277 non-null   object \n",
            " 10  is_education_computer_related  4261 non-null   object \n",
            " 11  certifications                 4277 non-null   object \n",
            " 12  salary                         4277 non-null   float64\n",
            "dtypes: float64(4), int64(1), object(8)\n",
            "memory usage: 434.5+ KB\n",
            "None\n",
            "id                                0\n",
            "timestamp                         0\n",
            "country                           0\n",
            "employment_status                 0\n",
            "job_title                         0\n",
            "job_years                         0\n",
            "is_manager                        0\n",
            "hours_per_week                   17\n",
            "telecommute_days_per_week        11\n",
            "education                         0\n",
            "is_education_computer_related    16\n",
            "certifications                    0\n",
            "salary                            0\n",
            "dtype: int64\n"
          ]
        }
      ],
      "source": [
        "import pandas as pd\n",
        "\n",
        "# Load the dataset\n",
        "data = pd.read_csv('/content/employee.csv')\n",
        "\n",
        "# Display the first few rows of the dataset\n",
        "print(data.head())\n",
        "\n",
        "# Display a summary of the dataset\n",
        "print(data.info())\n",
        "\n",
        "# Check for missing values\n",
        "print(data.isnull().sum())\n"
      ]
    },
    {
      "cell_type": "code",
      "source": [
        "from sklearn.model_selection import train_test_split\n",
        "from sklearn.impute import SimpleImputer\n",
        "from sklearn.preprocessing import OneHotEncoder\n",
        "from sklearn.compose import ColumnTransformer\n",
        "from sklearn.pipeline import Pipeline\n",
        "\n",
        "# Drop 'id' and 'timestamp' as they are not useful for prediction\n",
        "data = data.drop(['id', 'timestamp'], axis=1)\n",
        "\n",
        "# Simple Imputer for Numerical Columns\n",
        "num_imputer = SimpleImputer(strategy='mean')\n",
        "\n",
        "# Categorical Columns to be One-Hot Encoded\n",
        "cat_cols = ['country', 'employment_status', 'job_title', 'is_manager', 'education', 'is_education_computer_related', 'certifications']\n",
        "cat_transformer = Pipeline(steps=[\n",
        "    ('imputer', SimpleImputer(strategy='constant', fill_value='Missing')),\n",
        "    ('onehot', OneHotEncoder(handle_unknown='ignore'))\n",
        "])\n",
        "\n",
        "# Preprocessor\n",
        "preprocessor = ColumnTransformer(\n",
        "    transformers=[\n",
        "        ('num', num_imputer, ['job_years', 'hours_per_week', 'telecommute_days_per_week']),\n",
        "        ('cat', cat_transformer, cat_cols)\n",
        "    ])\n",
        "\n",
        "# Splitting the data\n",
        "X = data.drop('salary', axis=1)\n",
        "y = data['salary']\n",
        "X_train, X_test, y_train, y_test = train_test_split(X, y, test_size=0.2, random_state=42)\n",
        "\n",
        "# Apply preprocessing\n",
        "X_train_preprocessed = preprocessor.fit_transform(X_train)\n",
        "X_test_preprocessed = preprocessor.transform(X_test)\n"
      ],
      "metadata": {
        "id": "1lnxymC21pdp"
      },
      "execution_count": 3,
      "outputs": []
    },
    {
      "cell_type": "code",
      "source": [
        "from sklearn.linear_model import LinearRegression\n",
        "from sklearn.metrics import mean_absolute_error, mean_squared_error\n",
        "\n",
        "# Linear Regression\n",
        "lr = LinearRegression()\n",
        "lr.fit(X_train_preprocessed, y_train)\n",
        "\n",
        "# Predicting and Evaluating\n",
        "y_pred = lr.predict(X_test_preprocessed)\n",
        "mae = mean_absolute_error(y_test, y_pred)\n",
        "mse = mean_squared_error(y_test, y_pred)\n",
        "\n",
        "mae, mse\n"
      ],
      "metadata": {
        "colab": {
          "base_uri": "https://localhost:8080/"
        },
        "id": "PDMXtpi-2LrP",
        "outputId": "d6050ebd-6b58-4c15-b313-d130942b18e6"
      },
      "execution_count": 4,
      "outputs": [
        {
          "output_type": "execute_result",
          "data": {
            "text/plain": [
              "(869.1470474400523, 1344813.8488348853)"
            ]
          },
          "metadata": {},
          "execution_count": 4
        }
      ]
    },
    {
      "cell_type": "code",
      "source": [
        "from sklearn.linear_model import Ridge, Lasso\n",
        "\n",
        "# Ridge Regression\n",
        "ridge = Ridge(alpha=1.0)\n",
        "ridge.fit(X_train_preprocessed, y_train)\n",
        "y_pred_ridge = ridge.predict(X_test_preprocessed)\n",
        "mae_ridge = mean_absolute_error(y_test, y_pred_ridge)\n",
        "mse_ridge = mean_squared_error(y_test, y_pred_ridge)\n",
        "\n",
        "# Lasso Regression\n",
        "lasso = Lasso(alpha=1.0)\n",
        "lasso.fit(X_train_preprocessed, y_train)\n",
        "y_pred_lasso = lasso.predict(X_test_preprocessed)\n",
        "mae_lasso = mean_absolute_error(y_test, y_pred_lasso)\n",
        "mse_lasso = mean_squared_error(y_test, y_pred_lasso)\n",
        "\n",
        "(mae_ridge, mse_ridge, mae_lasso, mse_lasso)\n"
      ],
      "metadata": {
        "colab": {
          "base_uri": "https://localhost:8080/"
        },
        "id": "xfEqwigJ2QNj",
        "outputId": "c54dfb4f-5111-4dd4-db21-e2083e22ceff"
      },
      "execution_count": 5,
      "outputs": [
        {
          "output_type": "execute_result",
          "data": {
            "text/plain": [
              "(866.5236230326344, 1340609.9402750763, 862.9723307338778, 1341679.2063698836)"
            ]
          },
          "metadata": {},
          "execution_count": 5
        }
      ]
    },
    {
      "cell_type": "markdown",
      "source": [
        "Both Ridge and Lasso Regression models show slight improvements in terms of MAE and MSE over the basic Linear Regression model:\n",
        "\n",
        "Lasso Regression offers the lowest MAE, suggesting it is slightly better in terms of average prediction error.\n",
        "Ridge Regression shows a modest improvement in MSE over Linear Regression, suggesting it manages the error squared terms better, potentially due to its regularization effect which penalizes large coefficients.\n",
        "This analysis indicates that for this dataset, regularization techniques such as Ridge and Lasso can offer better performance by managing multicollinearity and preventing overfitting, compared to plain Linear Regression.\n",
        "\n",
        "\n"
      ],
      "metadata": {
        "id": "Lqf5jniG2YES"
      }
    },
    {
      "cell_type": "code",
      "source": [],
      "metadata": {
        "id": "-nH5GlQ_2aOT"
      },
      "execution_count": null,
      "outputs": []
    }
  ]
}